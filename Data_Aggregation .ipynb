{
 "cells": [
  {
   "source": [
    "## NLP List ##\n",
    "- Grab data from JSON file\n",
    "- Target XML files and grab articles for individual news sites\n",
    "- Parsing and organizing data"
   ],
   "cell_type": "markdown",
   "metadata": {}
  },
  {
   "cell_type": "markdown",
   "metadata": {},
   "source": [
    "## JSON Input ##\n",
    "Reading webiste list from JSON file."
   ]
  },
  {
   "cell_type": "code",
   "execution_count": 1,
   "metadata": {},
   "outputs": [],
   "source": [
    "# Imports for JSON Input Section\n",
    "import json\n",
    "import os"
   ]
  },
  {
   "cell_type": "code",
   "execution_count": 2,
   "metadata": {},
   "outputs": [],
   "source": [
    "# Two individual files, \n",
    "file_name = \"testdata.json\"     # One website\n",
    "# file_name = \"websites.json\"     # All websites\n",
    "\n",
    "with open(file_name) as file:\n",
    "    websites = []    \n",
    "    # Load in JSON file\n",
    "    data = json.load(file)  \n",
    "    # For each site in JSON file, append to websites\n",
    "    for site in data['target-sites']:\n",
    "        websites.append(site['parse-type']['url'])\n"
   ]
  },
  {
   "cell_type": "code",
   "execution_count": 3,
   "metadata": {},
   "outputs": [
    {
     "output_type": "stream",
     "name": "stdout",
     "text": [
      "['https://www.cnn.com/sitemaps/cnn/news.xml']\n"
     ]
    }
   ],
   "source": [
    "# You can see the websites by uncommiting the following line\n",
    "print(websites)"
   ]
  },
  {
   "source": [
    "## Creating our corpus ##\n"
   ],
   "cell_type": "markdown",
   "metadata": {}
  },
  {
   "cell_type": "code",
   "execution_count": 4,
   "metadata": {},
   "outputs": [],
   "source": [
    "# Imports for section\n",
    "import requests\n",
    "import timeit\n",
    "import pandas as pd\n",
    "\n",
    "from bs4 import BeautifulSoup\n",
    "\n",
    "# Uncomment to test the speed of the aggregation process\n",
    "import time\n",
    "start = timeit.default_timer()"
   ]
  },
  {
   "source": [
    "Rather then appending a new entry, we will grow a list. Reference [here](https://stackoverflow.com/a/56746204/7560483)."
   ],
   "cell_type": "markdown",
   "metadata": {}
  },
  {
   "cell_type": "code",
   "execution_count": 46,
   "metadata": {
    "tags": []
   },
   "outputs": [
    {
     "output_type": "stream",
     "name": "stdout",
     "text": [
      "Iran is ready for a new relationship with the US, but the clock is ticking, says Foreign Minister Javad Zarif\n",
      "Here&apos;s how Jared Kushner and Stacey Abrams got nominated for the Nobel Peace Prize\n",
      "Biden freeze hits two Trump drug price rules\n",
      "SpaceX announces first-ever all-civilian space flight crew\n",
      "Even some within the Trump right want Marjorie Taylor Greene gone\n",
      "House Democrats move swiftly to strip Marjorie Taylor Greene of committee assignments\n",
      "This NFL coach made diversity a priority. Now his team is headed to the Super Bowl\n",
      "July 3 coronavirus news\n",
      "How much snow has fallen? Some areas have more than 2 feet\n",
      "Wakanda-set TV series in the works from Ryan Coogler\n",
      "An Indiana woman got a Covid-19 vaccine shot on her 100th birthday\n",
      "New American Express Centurion Lounge opens in Denver\n",
      "Google will stop making video games for its Stadia platform\n",
      "New York officials plan to redouble efforts to fix racial disparities in vaccination rates\n",
      "Facebook tries to remind users about benefits of data collection ahead of Apple privacy change\n",
      "John Reed Fast Facts\n",
      "Yale is offering its highly popular &apos;happiness&apos; course to high school students for free\n",
      "LGBTQ Rights Milestones Fast Facts\n",
      "An estimated 29 million people would lose out on stimulus payments under GOP proposal\n",
      "The best soundbars of 2021\n",
      "31 Florida counties agree to settle legal fight over Spanish-language ballots\n",
      "House Democrats to accuse Trump of intentionally inciting rioters with months-long campaign to subvert voters\n",
      "Earbuds vs. headphones: Which one should you buy?\n",
      "Dustin Diamond, &apos;Saved by the Bell&apos; star, dead at 44\n",
      "To safely enjoy the Super Bowl, watch at home with people with whom you live, CDC says\n",
      "Biden asks Supreme Court to delay oral arguments on border wall and asylum rule\n",
      "CNN 10 - February 2, 2021\n",
      "The teacher behind Bernie Sanders&apos; mittens teams up with a teddy bear factory to make them for the masses\n",
      "Biden administration debating whether to call military takeover in Myanmar a &apos;coup&apos;\n",
      "The best TVs of 2021\n",
      "Jamie Tarses, trailblazing TV executive, dead at 56\n",
      "Create the ultimate big game viewing experience with the best TVs, soundbars and more\n",
      "At-home Covid-19 test to ramp up production with $231.8 million federal contract\n",
      "Millions of Ford vehicles will run on Google&apos;s Android operating system starting in 2023\n",
      "Here&apos;s what budget reconciliation is (and why it matters for Biden&apos;s stimulus)\n",
      "This candy company will pay you $30 an hour to taste test their sweets\n",
      "Biden and Netanyahu&apos;s decades-long friendship faces new test after Israel&apos;s Prime Minister went all in for Trump\n",
      "American jobs won&apos;t return to pre-pandemic levels until 2024, CBO says\n",
      "Eric Holder Fast Facts\n",
      "Here&apos;s what it&apos;ll take for you to snag your own Nobel Peace Prize nomination\n",
      "You&apos;ll need reservations to see Firefall at Yosemite this year -- and they&apos;re going fast\n",
      "Valentine&apos;s Day jewelry under $500 that&apos;ll make them swoon\n",
      "Wine petitions Ugandan Supreme Court to nullify Museveni&apos;s reelection\n",
      "Biden wants millions of clean-energy related jobs. Can it happen?\n",
      "House panel launches probe into meatpackers&apos; coronavirus response\n",
      "Anti-vaxxers briefly shut down Dodger Stadium vaccination site over weekend, police say\n",
      "Your Reddit posts could predict a breakup over 3 months before it happens\n",
      "Save on all the refurbished tech and appliances you need for game day at Amazon\n",
      "Christine Chiu of &apos;Bling Empire&apos; may look like the latest reality villain, but there&apos;s more to the story\n",
      "Joe Biden is trying to make the US presidency great again\n",
      "How Brazil&apos;s Covid-19 vaccine plan fell apart\n",
      "Man charged with attacking officer who suffered concussion in US Capitol riot\n",
      "NFL Pro Bowl Fast Facts\n",
      "Joe Biden Fast Facts\n",
      "The pandemic devastated America&apos;s art industry. Here&apos;s how to build it back\n",
      "Winter Olympic Competitions Fast Facts\n",
      "Chicago Public Schools will return to in-person learning a day later than expected after district and union fail to reach agreement\n",
      "Pregnant Shawn Johnson East tests positive for Covid-19\n",
      "Time:  46.21351239999785\n"
     ]
    }
   ],
   "source": [
    "# Todays current date\n",
    "today = pd.to_datetime(\"today\").tz_localize('US/Central').date()\n",
    "data = [] \n",
    "\n",
    "# Create empty dataframe if articles.csv doesn't exist\n",
    "try:\n",
    "    # Import all articles stored within the csv\n",
    "    df = pd.read_csv('articles.csv', index_col=0)\n",
    "    # Remove all articles not published today\n",
    "    df = df[~(df['pub-date'] == today)]\n",
    "except FileNotFoundError:\n",
    "    # Create empty dataframe if one doesnt exist\n",
    "    df = pd.DataFrame(data, columns=['pub-date','source','name','title','content'])\n",
    "    \n",
    "\n",
    "for site in websites:\n",
    "    # Grab individual sites XML \n",
    "    resp = requests.get(site)\n",
    "\n",
    "    # Parse XML using BeautifulSoup\n",
    "    soup = BeautifulSoup(resp.content, 'lxml-xml')\n",
    "    # For each Article Listed that is today\n",
    "    for article in soup.find_all('url'):\n",
    "        # Grab and parse the publication date of the current article\n",
    "        pub_date = pd.to_datetime(article.publication_date.get_text()).tz_convert('US/Central').date()\n",
    "        # print(pub_date , today , pub_date - today)\n",
    "        if article.loc.get_text() in df['source'].values:     # Continue if previously processed article\n",
    "            continue\n",
    "        elif pub_date < today:     # Continue if pub-date not current date\n",
    "            continue\n",
    "        print(article.title.get_text())\n",
    "        # Grab and parse the article\n",
    "        page = requests.get(article.loc.get_text())\n",
    "        soup2 = BeautifulSoup(page.content, 'html.parser')\n",
    "\n",
    "        # Build content based on HTML format\n",
    "        content = []\n",
    "        for ele in soup2.findAll('div',{'class':'zn-body__paragraph'}):\n",
    "            content.append(ele.get_text())\n",
    "        if not content:\n",
    "            for par in soup2.find_all('p'):\n",
    "                content.append(par.get_text())\n",
    "        # Append article onto data list\n",
    "        data.append([\n",
    "            pub_date,\n",
    "            article.loc.get_text(),\n",
    "            article.find('name').get_text(),\n",
    "            article.title.get_text(),\n",
    "            \" \".join(content)\n",
    "        ])\n",
    "        \n",
    "        # Sleep for etiquette\n",
    "        time.sleep(.5)\n",
    "\n",
    "# Concat the data as a DataFrame object with respects to existing DataFrame\n",
    "df = pd.concat([df, pd.DataFrame(data, columns=['pub-date','source','name','title','content'])], ignore_index=True)\n",
    "\n",
    "# Final revision on data aggregated \n",
    "df['pub-date'] = pd.to_datetime(df['pub-date'], utc=True)\n",
    "df['content'] = df['content'].astype(str)\n",
    "# Export data\n",
    "df.to_csv(\"articles.csv\")\n",
    "\n",
    "# Uncomment to test the speed of the aggregation process\n",
    "stop = timeit.default_timer()\n",
    "print(\"Time: \", stop-start)"
   ]
  },
  {
   "cell_type": "code",
   "execution_count": 47,
   "metadata": {},
   "outputs": [
    {
     "output_type": "execute_result",
     "data": {
      "text/plain": [
       "                   pub-date  \\\n",
       "0 2021-02-01 00:00:00+00:00   \n",
       "1 2021-02-01 00:00:00+00:00   \n",
       "2 2021-02-01 00:00:00+00:00   \n",
       "3 2021-02-01 00:00:00+00:00   \n",
       "4 2021-02-01 00:00:00+00:00   \n",
       "\n",
       "                                              source               name  \\\n",
       "0  https://www.cnn.com/2021/02/01/us/aclu-first-b...                CNN   \n",
       "1  https://www.cnn.com/2021/02/01/politics/joe-ma...                CNN   \n",
       "2  https://www.cnn.com/2021/02/01/health/us-coron...                CNN   \n",
       "3  https://www.cnn.com/2021/02/01/investing/googl...                CNN   \n",
       "4  https://edition.cnn.com/2021/02/01/europe/nean...  CNN International   \n",
       "\n",
       "                                               title  \\\n",
       "0  ACLU, for first time in its 101-year history, ...   \n",
       "1  White House reached out to Manchin after Harri...   \n",
       "2  The US is in an &apos;absolute race&apos; with...   \n",
       "3  Google investors may have forgotten how much l...   \n",
       "4  Prehistoric teeth hint at Stone Age sex with N...   \n",
       "\n",
       "                                             content  \\\n",
       "0  The ACLU made the announcement Monday, calling...   \n",
       "1  The outreach comes after Harris' apparent move...   \n",
       "2  \"What concerns me most is that we already know...   \n",
       "3  Alphabet (GOOGL) is trading near an all-time h...   \n",
       "4  During this time, Homo sapiens and Neanderthal...   \n",
       "\n",
       "                                             summary  \n",
       "0  \"After beginning my career as an ACLU fellow, ...  \n",
       "1  In an interview with WSAZ Thursday, Harris sai...  \n",
       "2  While the state has the capacity to give 250,0...  \n",
       "3  But broader concerns about the pandemic could ...  \n",
       "4  The team was trying to recover DNA from the te...  "
      ],
      "text/html": "<div>\n<style scoped>\n    .dataframe tbody tr th:only-of-type {\n        vertical-align: middle;\n    }\n\n    .dataframe tbody tr th {\n        vertical-align: top;\n    }\n\n    .dataframe thead th {\n        text-align: right;\n    }\n</style>\n<table border=\"1\" class=\"dataframe\">\n  <thead>\n    <tr style=\"text-align: right;\">\n      <th></th>\n      <th>pub-date</th>\n      <th>source</th>\n      <th>name</th>\n      <th>title</th>\n      <th>content</th>\n      <th>summary</th>\n    </tr>\n  </thead>\n  <tbody>\n    <tr>\n      <th>0</th>\n      <td>2021-02-01 00:00:00+00:00</td>\n      <td>https://www.cnn.com/2021/02/01/us/aclu-first-b...</td>\n      <td>CNN</td>\n      <td>ACLU, for first time in its 101-year history, ...</td>\n      <td>The ACLU made the announcement Monday, calling...</td>\n      <td>\"After beginning my career as an ACLU fellow, ...</td>\n    </tr>\n    <tr>\n      <th>1</th>\n      <td>2021-02-01 00:00:00+00:00</td>\n      <td>https://www.cnn.com/2021/02/01/politics/joe-ma...</td>\n      <td>CNN</td>\n      <td>White House reached out to Manchin after Harri...</td>\n      <td>The outreach comes after Harris' apparent move...</td>\n      <td>In an interview with WSAZ Thursday, Harris sai...</td>\n    </tr>\n    <tr>\n      <th>2</th>\n      <td>2021-02-01 00:00:00+00:00</td>\n      <td>https://www.cnn.com/2021/02/01/health/us-coron...</td>\n      <td>CNN</td>\n      <td>The US is in an &amp;apos;absolute race&amp;apos; with...</td>\n      <td>\"What concerns me most is that we already know...</td>\n      <td>While the state has the capacity to give 250,0...</td>\n    </tr>\n    <tr>\n      <th>3</th>\n      <td>2021-02-01 00:00:00+00:00</td>\n      <td>https://www.cnn.com/2021/02/01/investing/googl...</td>\n      <td>CNN</td>\n      <td>Google investors may have forgotten how much l...</td>\n      <td>Alphabet (GOOGL) is trading near an all-time h...</td>\n      <td>But broader concerns about the pandemic could ...</td>\n    </tr>\n    <tr>\n      <th>4</th>\n      <td>2021-02-01 00:00:00+00:00</td>\n      <td>https://edition.cnn.com/2021/02/01/europe/nean...</td>\n      <td>CNN International</td>\n      <td>Prehistoric teeth hint at Stone Age sex with N...</td>\n      <td>During this time, Homo sapiens and Neanderthal...</td>\n      <td>The team was trying to recover DNA from the te...</td>\n    </tr>\n  </tbody>\n</table>\n</div>"
     },
     "metadata": {},
     "execution_count": 47
    }
   ],
   "source": [
    "df.head()"
   ]
  },
  {
   "source": [
    "## Cleaning and preparations ## "
   ],
   "cell_type": "markdown",
   "metadata": {}
  },
  {
   "cell_type": "code",
   "execution_count": 48,
   "metadata": {},
   "outputs": [],
   "source": [
    "# Imports for Cleaning and preparations\n",
    "import numpy as np\n",
    "import heapq\n",
    "import re\n",
    "from nltk.corpus import stopwords\n",
    "from nltk.stem import PorterStemmer\n",
    "from nltk.tokenize import word_tokenize, sent_tokenize"
   ]
  },
  {
   "source": [
    "Now that we've aggreggated articles for our data,lets preview an article."
   ],
   "cell_type": "markdown",
   "metadata": {}
  },
  {
   "cell_type": "code",
   "execution_count": 49,
   "metadata": {},
   "outputs": [
    {
     "output_type": "execute_result",
     "data": {
      "text/plain": [
       "'The ACLU made the announcement Monday, calling Archer \"an established civil rights attorney, scholar, and teacher.\" In addition to her professorship, Archer is the co-faculty director at NYU\\'s Center on Race, Inequality, and the Law, and the director of the Civil Rights Clinic at NYU School of Law. Archer has been a part of the ACLU for years, beginning her career as a legal fellow in the ACLU Racial Justice Program, the organization stated. She\\'s been a member of the board since 2009 and a general counsel since 2017. \"After beginning my career as an ACLU fellow, it is an honor to come full circle and now lead the organization as board president,\" Archer said in a statement. \"The ACLU has proven itself as an invaluable voice in the fight for civil rights in the last four years of the Trump era, and we are better positioned than ever to face the work ahead.\" Susan Herman previously held the role, serving for 12 years.  Archer\\'s duties will include leading its more than 60 members in creating organizational policy, as well as overseeing things like the nonprofit\\'s finances. '"
      ]
     },
     "metadata": {},
     "execution_count": 49
    }
   ],
   "source": [
    "df['content'][0]"
   ]
  },
  {
   "source": [
    "Notice the symbols and characters within the article content. Before we calculate the frequencies, lets use regex to clean things up by defining some functions."
   ],
   "cell_type": "markdown",
   "metadata": {}
  },
  {
   "cell_type": "code",
   "execution_count": 50,
   "metadata": {},
   "outputs": [
    {
     "output_type": "error",
     "ename": "ValueError",
     "evalue": "max() arg is an empty sequence",
     "traceback": [
      "\u001b[1;31m---------------------------------------------------------------------------\u001b[0m",
      "\u001b[1;31mValueError\u001b[0m                                Traceback (most recent call last)",
      "\u001b[1;32m<ipython-input-50-30e48251979a>\u001b[0m in \u001b[0;36m<module>\u001b[1;34m\u001b[0m\n\u001b[0;32m     22\u001b[0m             \u001b[0mword_freq\u001b[0m\u001b[1;33m[\u001b[0m\u001b[0mword\u001b[0m\u001b[1;33m]\u001b[0m \u001b[1;33m+=\u001b[0m \u001b[1;36m1\u001b[0m\u001b[1;33m\u001b[0m\u001b[1;33m\u001b[0m\u001b[0m\n\u001b[0;32m     23\u001b[0m \u001b[1;33m\u001b[0m\u001b[0m\n\u001b[1;32m---> 24\u001b[1;33m     \u001b[0mmax_req\u001b[0m \u001b[1;33m=\u001b[0m \u001b[0mmax\u001b[0m\u001b[1;33m(\u001b[0m\u001b[0mword_freq\u001b[0m\u001b[1;33m.\u001b[0m\u001b[0mvalues\u001b[0m\u001b[1;33m(\u001b[0m\u001b[1;33m)\u001b[0m\u001b[1;33m)\u001b[0m\u001b[1;33m\u001b[0m\u001b[1;33m\u001b[0m\u001b[0m\n\u001b[0m\u001b[0;32m     25\u001b[0m     \u001b[1;32mfor\u001b[0m \u001b[0mword\u001b[0m \u001b[1;32min\u001b[0m \u001b[0mword_freq\u001b[0m\u001b[1;33m.\u001b[0m\u001b[0mkeys\u001b[0m\u001b[1;33m(\u001b[0m\u001b[1;33m)\u001b[0m\u001b[1;33m:\u001b[0m\u001b[1;33m\u001b[0m\u001b[1;33m\u001b[0m\u001b[0m\n\u001b[0;32m     26\u001b[0m         \u001b[0mword_freq\u001b[0m\u001b[1;33m[\u001b[0m\u001b[0mword\u001b[0m\u001b[1;33m]\u001b[0m \u001b[1;33m=\u001b[0m \u001b[1;33m(\u001b[0m\u001b[0mword_freq\u001b[0m\u001b[1;33m[\u001b[0m\u001b[0mword\u001b[0m\u001b[1;33m]\u001b[0m\u001b[1;33m/\u001b[0m\u001b[0mmax_req\u001b[0m\u001b[1;33m)\u001b[0m\u001b[1;33m\u001b[0m\u001b[1;33m\u001b[0m\u001b[0m\n",
      "\u001b[1;31mValueError\u001b[0m: max() arg is an empty sequence"
     ]
    }
   ],
   "source": [
    "summary_data = np.full([len(df)], \"\", dtype=np.object)\n",
    "for index, row in df.iterrows():\n",
    "    # Remove all extra spaces\n",
    "    text = re.sub(r'\\s+', ' ', row['content'])\n",
    "    # Remove all numbers and special characters, used for frequency\n",
    "    format_text = re.sub('[^a-zA-Z]', ' ', text )\n",
    "    format_text = re.sub(r'\\s+', ' ', format_text)\n",
    "\n",
    "    # Remove stopwords from tokenized array\n",
    "    stop_words = list(stopwords.words('english'))\n",
    "    word_tokens = np.array(word_tokenize(format_text))\n",
    "    format_text = np.array([word for word in word_tokens if not word in stop_words])\n",
    "\n",
    "    # Splitting sentences\n",
    "    sentence_list = np.array(text.split('. '))\n",
    "    \n",
    "    word_freq = {}\n",
    "    for word in format_text:\n",
    "        if word not in word_freq.keys():\n",
    "            word_freq[word] = 1\n",
    "        else: \n",
    "            word_freq[word] += 1\n",
    "\n",
    "    max_req = max(word_freq.values())\n",
    "    for word in word_freq.keys():\n",
    "        word_freq[word] = (word_freq[word]/max_req)\n",
    "\n",
    "    sentence_score = {}\n",
    "    sentence_avg = round(1.5*sum([len(sent.split(' ')) for sent in sentence_list])/len(sentence_list))\n",
    "    for sentence in sentence_list:\n",
    "        for word in word_tokenize(sentence.lower()):\n",
    "            if word in word_freq.keys():\n",
    "                if len(sentence.split(' ')) < sentence_avg:\n",
    "                    if sentence not in sentence_score.keys():\n",
    "                        sentence_score[sentence] = word_freq[word]\n",
    "                    else:\n",
    "                        sentence_score[sentence] += word_freq[word]\n",
    "\n",
    "    summary_sentences = heapq.nlargest(7, sentence_score, key=sentence_score.get)\n",
    "\n",
    "    summary_data[index] = '. '.join(summary_sentences)+\".\"\n",
    "\n",
    "# Append new column\n",
    "df['summary'] = summary_data \n",
    "df.to_csv(\"articles.csv\")"
   ]
  },
  {
   "cell_type": "code",
   "execution_count": 41,
   "metadata": {},
   "outputs": [
    {
     "output_type": "execute_result",
     "data": {
      "text/plain": [
       "                   pub-date  \\\n",
       "0 2021-02-01 00:00:00+00:00   \n",
       "1 2021-02-01 00:00:00+00:00   \n",
       "2 2021-02-01 00:00:00+00:00   \n",
       "3 2021-02-01 00:00:00+00:00   \n",
       "4 2021-02-01 00:00:00+00:00   \n",
       "\n",
       "                                              source               name  \\\n",
       "0  https://www.cnn.com/2021/02/01/us/aclu-first-b...                CNN   \n",
       "1  https://www.cnn.com/2021/02/01/politics/joe-ma...                CNN   \n",
       "2  https://www.cnn.com/2021/02/01/health/us-coron...                CNN   \n",
       "3  https://www.cnn.com/2021/02/01/investing/googl...                CNN   \n",
       "4  https://edition.cnn.com/2021/02/01/europe/nean...  CNN International   \n",
       "\n",
       "                                               title  \\\n",
       "0  ACLU, for first time in its 101-year history, ...   \n",
       "1  White House reached out to Manchin after Harri...   \n",
       "2  The US is in an &apos;absolute race&apos; with...   \n",
       "3  Google investors may have forgotten how much l...   \n",
       "4  Prehistoric teeth hint at Stone Age sex with N...   \n",
       "\n",
       "                                             content  \\\n",
       "0  The ACLU made the announcement Monday, calling...   \n",
       "1  The outreach comes after Harris' apparent move...   \n",
       "2  \"What concerns me most is that we already know...   \n",
       "3  Alphabet (GOOGL) is trading near an all-time h...   \n",
       "4  During this time, Homo sapiens and Neanderthal...   \n",
       "\n",
       "                                             summary  \n",
       "0  \"After beginning my career as an ACLU fellow, ...  \n",
       "1  In an interview with WSAZ Thursday, Harris sai...  \n",
       "2  While the state has the capacity to give 250,0...  \n",
       "3  But broader concerns about the pandemic could ...  \n",
       "4  The team was trying to recover DNA from the te...  "
      ],
      "text/html": "<div>\n<style scoped>\n    .dataframe tbody tr th:only-of-type {\n        vertical-align: middle;\n    }\n\n    .dataframe tbody tr th {\n        vertical-align: top;\n    }\n\n    .dataframe thead th {\n        text-align: right;\n    }\n</style>\n<table border=\"1\" class=\"dataframe\">\n  <thead>\n    <tr style=\"text-align: right;\">\n      <th></th>\n      <th>pub-date</th>\n      <th>source</th>\n      <th>name</th>\n      <th>title</th>\n      <th>content</th>\n      <th>summary</th>\n    </tr>\n  </thead>\n  <tbody>\n    <tr>\n      <th>0</th>\n      <td>2021-02-01 00:00:00+00:00</td>\n      <td>https://www.cnn.com/2021/02/01/us/aclu-first-b...</td>\n      <td>CNN</td>\n      <td>ACLU, for first time in its 101-year history, ...</td>\n      <td>The ACLU made the announcement Monday, calling...</td>\n      <td>\"After beginning my career as an ACLU fellow, ...</td>\n    </tr>\n    <tr>\n      <th>1</th>\n      <td>2021-02-01 00:00:00+00:00</td>\n      <td>https://www.cnn.com/2021/02/01/politics/joe-ma...</td>\n      <td>CNN</td>\n      <td>White House reached out to Manchin after Harri...</td>\n      <td>The outreach comes after Harris' apparent move...</td>\n      <td>In an interview with WSAZ Thursday, Harris sai...</td>\n    </tr>\n    <tr>\n      <th>2</th>\n      <td>2021-02-01 00:00:00+00:00</td>\n      <td>https://www.cnn.com/2021/02/01/health/us-coron...</td>\n      <td>CNN</td>\n      <td>The US is in an &amp;apos;absolute race&amp;apos; with...</td>\n      <td>\"What concerns me most is that we already know...</td>\n      <td>While the state has the capacity to give 250,0...</td>\n    </tr>\n    <tr>\n      <th>3</th>\n      <td>2021-02-01 00:00:00+00:00</td>\n      <td>https://www.cnn.com/2021/02/01/investing/googl...</td>\n      <td>CNN</td>\n      <td>Google investors may have forgotten how much l...</td>\n      <td>Alphabet (GOOGL) is trading near an all-time h...</td>\n      <td>But broader concerns about the pandemic could ...</td>\n    </tr>\n    <tr>\n      <th>4</th>\n      <td>2021-02-01 00:00:00+00:00</td>\n      <td>https://edition.cnn.com/2021/02/01/europe/nean...</td>\n      <td>CNN International</td>\n      <td>Prehistoric teeth hint at Stone Age sex with N...</td>\n      <td>During this time, Homo sapiens and Neanderthal...</td>\n      <td>The team was trying to recover DNA from the te...</td>\n    </tr>\n  </tbody>\n</table>\n</div>"
     },
     "metadata": {},
     "execution_count": 41
    }
   ],
   "source": [
    "df.head()"
   ]
  },
  {
   "cell_type": "code",
   "execution_count": 51,
   "metadata": {},
   "outputs": [
    {
     "output_type": "execute_result",
     "data": {
      "text/plain": [
       "'\"After beginning my career as an ACLU fellow, it is an honor to come full circle and now lead the organization as board president,\" Archer said in a statement. Archer has been a part of the ACLU for years, beginning her career as a legal fellow in the ACLU Racial Justice Program, the organization stated. Archer\\'s duties will include leading its more than 60 members in creating organizational policy, as well as overseeing things like the nonprofit\\'s finances. She\\'s been a member of the board since 2009 and a general counsel since 2017.'"
      ]
     },
     "metadata": {},
     "execution_count": 51
    }
   ],
   "source": [
    "df.info()"
   ]
  }
 ],
 "metadata": {
  "kernelspec": {
   "display_name": "Python 3",
   "language": "python",
   "name": "python3"
  },
  "language_info": {
   "codemirror_mode": {
    "name": "ipython",
    "version": 3
   },
   "file_extension": ".py",
   "mimetype": "text/x-python",
   "name": "python",
   "nbconvert_exporter": "python",
   "pygments_lexer": "ipython3",
   "version": "3.8.7-final"
  }
 },
 "nbformat": 4,
 "nbformat_minor": 4
}