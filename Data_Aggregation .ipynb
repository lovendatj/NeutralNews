{
 "cells": [
  {
   "source": [
    "## NLP List ##\n",
    "- Grab data from JSON file\n",
    "- Target XML files and grab articles for individual news sites\n",
    "- Parsing and organizing data"
   ],
   "cell_type": "markdown",
   "metadata": {}
  },
  {
   "cell_type": "markdown",
   "metadata": {},
   "source": [
    "## JSON Input ##\n",
    "Reading webiste list from JSON file."
   ]
  },
  {
   "cell_type": "code",
   "execution_count": 1,
   "metadata": {},
   "outputs": [],
   "source": [
    "# Imports for JSON Input Section\n",
    "import json\n",
    "import os"
   ]
  },
  {
   "cell_type": "code",
   "execution_count": 2,
   "metadata": {},
   "outputs": [],
   "source": [
    "# Two individual files, \n",
    "file_name = \"testdata.json\"     # One website\n",
    "# file_name = \"websites.json\"     # All websites\n",
    "\n",
    "with open(file_name) as file:\n",
    "    websites = []    \n",
    "    # Load in JSON file\n",
    "    data = json.load(file)  \n",
    "    # For each site in JSON file, append to websites\n",
    "    for site in data['target-sites']:\n",
    "        websites.append(site['parse-type']['url'])\n"
   ]
  },
  {
   "cell_type": "code",
   "execution_count": 3,
   "metadata": {},
   "outputs": [
    {
     "output_type": "stream",
     "name": "stdout",
     "text": [
      "['https://www.cnn.com/sitemaps/cnn/news.xml']\n"
     ]
    }
   ],
   "source": [
    "# You can see the websites by uncommiting the following line\n",
    "print(websites)"
   ]
  },
  {
   "source": [
    "## Creating our corpus ##\n"
   ],
   "cell_type": "markdown",
   "metadata": {}
  },
  {
   "cell_type": "code",
   "execution_count": 4,
   "metadata": {},
   "outputs": [],
   "source": [
    "# Imports for section\n",
    "import requests\n",
    "import timeit\n",
    "import pandas as pd\n",
    "\n",
    "from bs4 import BeautifulSoup\n",
    "\n",
    "# Uncomment to test the speed of the aggregation process\n",
    "import time\n",
    "start = timeit.default_timer()"
   ]
  },
  {
   "source": [
    "Rather then appending a new entry, we will grow a list. Reference [here](https://stackoverflow.com/a/56746204/7560483)."
   ],
   "cell_type": "markdown",
   "metadata": {}
  },
  {
   "cell_type": "code",
   "execution_count": 5,
   "metadata": {
    "tags": []
   },
   "outputs": [
    {
     "output_type": "stream",
     "name": "stdout",
     "text": [
      "&apos;I won&apos;t apologize for the vote&apos;: Cheney defends backing impeachment as defense of Constitution\n",
      "Netflix is doubling down on Asia with K-dramas and mobile-only deals. But China remains elusive\n",
      "FDR got this right. Biden can, too\n",
      "Biden is expected to announce increase in amount of refugees admitted into US\n",
      "CNN 10 - February 4, 2021\n",
      "Up to 600 Australian Open players and staff go into isolation after a hotel worker tests positive for Covid-19\n",
      "Why Donald Trump could melt away\n",
      "Federal judge moves Oregon prisoners ahead of seniors on Covid-19 vaccination list\n",
      "Meet Andy Jassy, the next CEO of Amazon\n",
      "Florida town completes legal review of Trump&apos;s residency at Mar-a-Lago\n",
      "Global Covid-19 vaccine confidence is rising, survey shows\n",
      "Frank Biden&apos;s actions already testing Joe Biden&apos;s ethics claims\n",
      "Ohio grand jury indicts Columbus officer who fatally shot Andre Hill, state attorney general says\n",
      "House Republican leader punts on punishing Marjorie Taylor Greene as Democrats move toward removing her from committees\n",
      "California boosts vaccination effort as part of federal pilot program\n",
      "Alexandria Ocasio-Cortez reveals brutal truth\n",
      "Nuclear-powered rocket could get astronauts to Mars faster\n",
      "White House still waiting for GOP response to follow-up from Oval Office Covid-19 relief meeting\n",
      "Three skiers are missing after getting caught in a large avalanche in Colorado\n",
      "Record-breaking roller coaster will travel more than 155 miles per hour\n",
      "The people who let Putin get away with persecuting Navalny\n",
      "Navy has fallen short in addressing lack of diversity, task force says\n",
      "Canada will list the Proud Boys movement as a terrorist group\n",
      "BREAKING: People hate Congress less!\n",
      "70% to 85% of Americans need to be fully vaccinated for a return to normal, Fauci says. So far it&apos;s less than 2%\n",
      "Two Proud Boys indicted on conspiracy charge to plan and fund effort to block Congress&apos; certification of electoral votes on January 6\n",
      "Golden Globes 2021: See the full list of nominees\n",
      "A rocky corner in southern Utah has brought 5 tribes together. An executive order is reviving effort to protect them\n",
      "Secretary of Defense orders all military to pause and review handling of extremism in ranks\n",
      "World&apos;s first face and hands transplant gives New Jersey man a second chance at life\n",
      "&apos;Firefly Lane&apos; gives Katherine Heigl the right kind of soapy TV home\n",
      "Homeland Security secretary: Threat of domestic terrorism is &apos;persistent&apos;\n",
      "The Whoop Strap 3.0 is the personal trainer you need for 2021\n",
      "Woman charged in Capitol riot asks judge to let her take vacation in Mexico\n",
      "Three pilots killed in Idaho National Guard Black Hawk helicopter crash\n",
      "Jeff Bezos Fast Facts\n",
      "&apos;QAnon Shaman&apos; rioter should be given organic food while in jail after going on hunger strike, federal judge says\n",
      "Why Kevin McCarthy has already failed his first big leadership test\n",
      "Archaeologists unearth Egyptian mummies with golden tongues\n",
      "Domestic violent extremism remains a concern for Super Bowl security this weekend\n",
      "Senate approves power-sharing agreement, allowing Democrats to take control of committees\n",
      "Shell-shocked and angry: Inside the Capitol Police force a month after the deadly attack\n",
      "US drops discrimination lawsuit against Yale\n",
      "The latest on Congress as GOP tensions rise\n",
      "What we know about the Florida raid that led to 2 FBI agents&apos; deaths\n",
      "Where South America&apos;s race for coronavirus vaccines stands\n",
      "Justice Department rescinds two Trump-era voting directives\n",
      "Federal prosecutors top 180 Capitol riot cases, with man seen in &apos;American Supremacist&apos; sweatshirt among the latest\n",
      "37 must-have Valentine&apos;s Day gifts from Nordstrom for everyone\n",
      "The latest on the coronavirus pandemic and vaccines\n",
      "Tech stocks rally as GameStop fever dies down\n",
      "The best spiralizers of 2021\n",
      "Morgan Wallen apologizes for racial slur as backlash grows\n",
      "Gun sales in January set a new record after Capitol Hill insurrection\n",
      "The Native American couple redefining cultural norms -- in photos\n",
      "Education secretary nominee Miguel Cardona pushes for teacher testing, vaccination in Senate hearing\n",
      "Double masking for Covid-19 protection: A trend with a purpose\n",
      "Mike Pompeo Fast Facts\n",
      "American detained in Russia is sick and unable to reach US embassy, his brother says\n",
      "A long-forgotten attic hid a photography studio and a famous portrait of Susan B. Anthony\n",
      "Sacha Baron Cohen, Nicole Kidman and more celebrate their Golden Globe nods\n",
      "History shows the GameStop saga won&apos;t end well\n",
      "Earn up to 150,000 bonus points and $150 in credits with Hilton credit cards\n",
      "Robinhood is buying a Super Bowl ad after its GameStop fiasco\n",
      "A newly discovered chameleon less than an inch long could be the world&apos;s smallest reptile\n",
      "Quip launched a mouthwash that&apos;s just as incredible as its toothbrushes\n",
      "Peeps will be back for Easter after a 9-month hiatus\n",
      "Japan Fast Facts\n",
      "The single most ridiculous dodge by a Republican senator on Marjorie Taylor Greene\n",
      "Ford receives a patent for a new, clear respirator mask that they expect to be just as effective as an N95\n",
      "With coup label, Capitol rioters join communist party in plotting against USA, university project says\n",
      "Development of new coronavirus vaccines may be hitting critical mass. Here&apos;s how they work\n",
      "In a case of potential mistaken mummy identity, scientists uncover clues\n",
      "She&apos;s been hiding in a church for three years. Now she feels a glimmer of hope\n",
      "Biden administration prepares to open overflow facility for migrant children\n",
      "Martian landslides may be caused by melting ice and salt under the surface\n",
      "Eavesdropping marmosets understand other monkeys&apos; conversations\n",
      "If Biden wants to fix health care, he will need Republicans\n",
      "Valentine&apos;s Day gifts that&apos;ll feel like a vacation, even if they can&apos;t take one\n",
      "Angelina Jolie is selling Winston Churchill&apos;s only wartime painting, gifted to her by Brad Pitt\n",
      "SoulCycle instructor apologizes after being criticized for jumping the line to get Covid-19 vaccine\n",
      "Jamie Raskin: Trump&apos;s impeachment defense amounts to &apos;absurd constitutional arguments&apos;\n",
      "These 5 credit cards are currently offering 100,000 bonus points or more\n",
      "Newsmax anchor storms off set when MyPillow CEO voices election conspiracies\n",
      "Supreme Court deals setback to Holocaust victims in art disputes\n",
      "Is California going to recall *another* governor?\n",
      "Biden leans on his Capitol Hill experience while pitching big Covid-19 relief deal\n",
      "These cities want to give grocery store workers hazard pay\n",
      "Traveling to Ghana during Covid-19: What you need to know before you go\n",
      "Biden tells House Democrats to &apos;stick together&apos; in Covid-19 relief push, signals willingness to narrow stimulus checks\n",
      "AstraZeneca vaccine appears to substantially reduce transmission of the coronavirus, study shows\n",
      "Golden Globe Awards Fast Facts\n",
      "Two Ohio GOP lawmakers are proposing an annual state holiday in honor of Trump\n",
      "Jeff Bezos has been halfway out the door at Amazon for a while\n",
      "She was stunned by Biden&apos;s inauguration. How this South Carolina mom escaped QAnon\n",
      "What makes Ford&apos;s new F-150 Raptor pickup truck special isn&apos;t under the hood\n",
      "Elon Musk admits Tesla has quality problems\n",
      "America&apos;s inequality problem isn&apos;t new. The pandemic is just emphasizing it\n",
      "Athletes at the Tokyo Olympics will not need a vaccine to participate, organizers say\n",
      "Oil companies are facing the moment of truth. The stakes couldn&apos;t be higher\n",
      "There are no Black execs at the top of Britain&apos;s biggest companies\n",
      "China&apos;s big tech companies are now fighting with each other\n",
      "Kia stock soars on talk of Apple car deal\n",
      "Amazon gets court to block $3.3 billion retail deal involving India&apos;s richest man\n",
      "Valentine&apos;s Day outfit ideas that aren&apos;t the least bit cheesy\n",
      "Lee Boyd Malvo Fast Facts\n",
      "The best sales to shop today: Mattress Firm, Kindle, Reebok and more\n",
      "Here&apos;s a mind-blowing deal on Revlon&apos;s top-rated hair dryer brush\n",
      "Golden Globe nominations cast a light on the weirdness of this awards season\n",
      "Sundance Film Festival 2021: Highlights from the comfort of your living room\n",
      "A British teenager fell into a 10-month coma before the pandemic. Now he&apos;s waking up in a new world\n",
      "What it&apos;s like to have a ski resort to yourself\n",
      "25 Valentine&apos;s Day gifts for the man in your life\n",
      "Following controversial remarks by Tanzania&apos;s president, WHO urges country to stick to science in fight against Covid-19\n",
      "Teachers have lost colleagues to Covid-19 and worry about being next. But, they say, no one&apos;s listening\n",
      "US extends nuclear arms treaty with Russia\n",
      "Golden Globe nominations make for history-making day for female directors\n",
      "Manchester United puts nine past Southampton to equal Premier League record\n",
      "Shop Amazon&apos;s top-rated Valentine&apos;s Day gifts for every budget\n",
      "Wall Street is keeping very close tabs on WallStreetBets. Here&apos;s how\n",
      "Tom Brady vs. Patrick Mahomes is a Super Bowl matchup that spans the ages\n",
      "Democrats jump on Republican divisions in effort to avoid midterm letdown\n",
      "Myanmar Fast Facts\n",
      "Valentine&apos;s Day Fast Facts\n",
      "Travel to the UK during Covid-19: What you need to know before you go\n",
      "Iraq Fast Facts\n",
      "Masks now required at US national parks\n",
      "Biden: No family members will be involved in any government decisions\n",
      "Aung San Suu Kyi Fast Facts\n",
      "FBI raids homes of 2 men who held rally on eve of Capitol attack\n",
      "Washington Post: Manhattan DA considering prosecuting Steve Bannon after Trump pardon\n",
      "Travel to Japan during Covid-19: What you need to know before you go\n",
      "FAA to oversee investigation of SpaceX Mars rocket prototype&apos;s explosive landing\n",
      "Club World Cup: Al Ahly&apos;s &apos;Chosen One&apos; coach draws strength from Nelson Mandela\n",
      "Hundreds of congressional staffers sign letter to senators urging them to convict Trump\n",
      "Biden channels Reagan in push for Covid relief\n",
      "House Republicans weigh stripping Greene from committee assignments as GOP senators repudiate her views\n",
      "Trump&apos;s impeachment defense takes shape\n",
      "Airstream adds office space to its trailers so you can work from wherever\n",
      "Debate over greatest goalscorer of all time continues as Cristiano Ronaldo nets 762nd goal\n",
      "Fact check: Trump&apos;s official response to impeachment includes obvious lies\n",
      "Some good news from Britain on vaccines and transmission\n",
      "Read: Hill staffers sign letter urging senators to convict Trump at impeachment trial\n",
      "How Amazon can keep thriving even without Jeff Bezos\n",
      "5 children and a man are killed in a shooting in Muskogee, Oklahoma\n",
      "Clarence Thomas&apos; wife apologizes to his former clerks for divide that developed amid fallout over Capitol riot\n",
      "Myanmar&apos;s Aung San Suu Kyi detained for 2 weeks under import-export laws following coup\n",
      "Trump powers GOP schism over Greene and Cheney\n",
      "My great-grandmother exposed lynchings. This is what she would say about the Capitol riot\n",
      "Jeff Bezos is stepping down as Amazon CEO\n",
      "Every US state will see below freezing temperatures over the next week\n",
      "Jobless Americans missed $17.6 billion in benefits last month because of relief bill delays\n",
      "&apos;We are lost:&apos; Fox News suffers ratings slump while staffers fret about post-Trump future\n",
      "The shadow vessel concept that keeps superyachts free from Covid-19\n",
      "The West has a new best as Utah Jazz win and Los Angeles Clippers fall\n",
      "I&apos;ve had my Covid-19 vaccine -- now what can I safely do? Your questions answered\n",
      "How Biden can fix the vaccine bottleneck\n",
      "5 things to know for February 3: Covid-19, impeachment, US voting, Russia, Amazon\n",
      "GameStop stock is plummeting but the Reddit rebellion is just beginning\n",
      "British scientists say the next dangerous Covid variant is likely already out there. We just don&apos;t know it yet\n",
      "They met on an airplane to Egypt then fell in love\n",
      "A personal meal plan can save your sanity this year\n",
      "Shutout by allies, Canada will produce its own vaccines by the end of 2021\n",
      "First came Covid lockdown. Now a bushfire is forcing these Australians to evacuate\n",
      "How a garage filled with dusty old machines is helping South Africa combat Covid-19\n",
      "As a voice for social justice, the legacy of Patrick Mahomes grows\n",
      "Hospital staff treat an elderly couple hospitalized with coronavirus to a dinner date together\n",
      "More than 100,000 people have died of Covid-19 in the US since January 1, JHU data shows\n",
      "WHO team heads to China bat lab at the center of coronavirus conspiracies\n",
      "Biden looks to be in &apos;lockstep&apos; with allies on China\n",
      "Fact check: Progressive Super PAC falsely claims Marco Rubio refuses to condemn Capitol attack\n",
      "Time:  120.88004260000002\n"
     ]
    }
   ],
   "source": [
    "# Todays current date\n",
    "today = pd.to_datetime(\"today\").tz_localize('US/Central').date()\n",
    "data = [] \n",
    "\n",
    "# Create empty dataframe if articles.csv doesn't exist\n",
    "try:\n",
    "    # Import all articles stored within the csv\n",
    "    df = pd.read_csv('articles.csv', index_col=0)\n",
    "    # Remove all articles not published today\n",
    "    df = df[~(df['pub-date'] == today)]\n",
    "except FileNotFoundError:\n",
    "    # Create empty dataframe if one doesnt exist\n",
    "    df = pd.DataFrame(data, columns=['pub-date','source','name','title','content'])\n",
    "    \n",
    "\n",
    "for site in websites:\n",
    "    # Grab individual sites XML \n",
    "    resp = requests.get(site)\n",
    "\n",
    "    # Parse XML using BeautifulSoup\n",
    "    soup = BeautifulSoup(resp.content, 'lxml-xml')\n",
    "    # For each Article Listed that is today\n",
    "    for article in soup.find_all('url'):\n",
    "        # Grab and parse the publication date of the current article\n",
    "        pub_date = pd.to_datetime(article.publication_date.get_text()).tz_convert('US/Central').date()\n",
    "        # print(pub_date , today , pub_date - today)\n",
    "        if article.loc.get_text() in df['source'].values:     # Continue if previously processed article\n",
    "            continue\n",
    "        elif pub_date < today:     # Continue if pub-date not current date\n",
    "            continue\n",
    "        print(article.title.get_text())\n",
    "        # Grab and parse the article\n",
    "        page = requests.get(article.loc.get_text())\n",
    "        soup2 = BeautifulSoup(page.content, 'html.parser')\n",
    "\n",
    "        # Build content based on HTML format\n",
    "        content = []\n",
    "        for ele in soup2.findAll('div',{'class':'zn-body__paragraph'}):\n",
    "            content.append(ele.get_text())\n",
    "        if not content:\n",
    "            for par in soup2.find_all('p'):\n",
    "                content.append(par.get_text())\n",
    "        # Append article onto data list\n",
    "        data.append([\n",
    "            pub_date,\n",
    "            article.loc.get_text(),\n",
    "            article.find('name').get_text(),\n",
    "            article.title.get_text(),\n",
    "            \" \".join(content)\n",
    "        ])\n",
    "        \n",
    "        # Sleep for etiquette\n",
    "        time.sleep(.5)\n",
    "\n",
    "# Concat the data as a DataFrame object with respects to existing DataFrame\n",
    "df = pd.concat([df, pd.DataFrame(data, columns=['pub-date','source','name','title','content'])], ignore_index=True)\n",
    "\n",
    "# Final revision on data aggregated \n",
    "df['pub-date'] = pd.to_datetime(df['pub-date'], utc=True)\n",
    "df['content'] = df['content'].astype(str)\n",
    "# Export data\n",
    "df.to_csv(\"articles.csv\")\n",
    "\n",
    "# Uncomment to test the speed of the aggregation process\n",
    "stop = timeit.default_timer()\n",
    "print(\"Time: \", stop-start)"
   ]
  },
  {
   "cell_type": "code",
   "execution_count": 6,
   "metadata": {},
   "outputs": [
    {
     "output_type": "execute_result",
     "data": {
      "text/plain": [
       "                   pub-date  \\\n",
       "0 2021-02-01 00:00:00+00:00   \n",
       "1 2021-02-01 00:00:00+00:00   \n",
       "2 2021-02-01 00:00:00+00:00   \n",
       "3 2021-02-01 00:00:00+00:00   \n",
       "4 2021-02-01 00:00:00+00:00   \n",
       "\n",
       "                                              source               name  \\\n",
       "0  https://www.cnn.com/2021/02/01/us/aclu-first-b...                CNN   \n",
       "1  https://www.cnn.com/2021/02/01/politics/joe-ma...                CNN   \n",
       "2  https://www.cnn.com/2021/02/01/health/us-coron...                CNN   \n",
       "3  https://www.cnn.com/2021/02/01/investing/googl...                CNN   \n",
       "4  https://edition.cnn.com/2021/02/01/europe/nean...  CNN International   \n",
       "\n",
       "                                               title  \\\n",
       "0  ACLU, for first time in its 101-year history, ...   \n",
       "1  White House reached out to Manchin after Harri...   \n",
       "2  The US is in an &apos;absolute race&apos; with...   \n",
       "3  Google investors may have forgotten how much l...   \n",
       "4  Prehistoric teeth hint at Stone Age sex with N...   \n",
       "\n",
       "                                             content  \\\n",
       "0  The ACLU made the announcement Monday, calling...   \n",
       "1  The outreach comes after Harris' apparent move...   \n",
       "2  \"What concerns me most is that we already know...   \n",
       "3  Alphabet (GOOGL) is trading near an all-time h...   \n",
       "4  During this time, Homo sapiens and Neanderthal...   \n",
       "\n",
       "                                             summary  \n",
       "0  \"After beginning my career as an ACLU fellow, ...  \n",
       "1  In an interview with WSAZ Thursday, Harris sai...  \n",
       "2  While the state has the capacity to give 250,0...  \n",
       "3  But broader concerns about the pandemic could ...  \n",
       "4  The team was trying to recover DNA from the te...  "
      ],
      "text/html": "<div>\n<style scoped>\n    .dataframe tbody tr th:only-of-type {\n        vertical-align: middle;\n    }\n\n    .dataframe tbody tr th {\n        vertical-align: top;\n    }\n\n    .dataframe thead th {\n        text-align: right;\n    }\n</style>\n<table border=\"1\" class=\"dataframe\">\n  <thead>\n    <tr style=\"text-align: right;\">\n      <th></th>\n      <th>pub-date</th>\n      <th>source</th>\n      <th>name</th>\n      <th>title</th>\n      <th>content</th>\n      <th>summary</th>\n    </tr>\n  </thead>\n  <tbody>\n    <tr>\n      <th>0</th>\n      <td>2021-02-01 00:00:00+00:00</td>\n      <td>https://www.cnn.com/2021/02/01/us/aclu-first-b...</td>\n      <td>CNN</td>\n      <td>ACLU, for first time in its 101-year history, ...</td>\n      <td>The ACLU made the announcement Monday, calling...</td>\n      <td>\"After beginning my career as an ACLU fellow, ...</td>\n    </tr>\n    <tr>\n      <th>1</th>\n      <td>2021-02-01 00:00:00+00:00</td>\n      <td>https://www.cnn.com/2021/02/01/politics/joe-ma...</td>\n      <td>CNN</td>\n      <td>White House reached out to Manchin after Harri...</td>\n      <td>The outreach comes after Harris' apparent move...</td>\n      <td>In an interview with WSAZ Thursday, Harris sai...</td>\n    </tr>\n    <tr>\n      <th>2</th>\n      <td>2021-02-01 00:00:00+00:00</td>\n      <td>https://www.cnn.com/2021/02/01/health/us-coron...</td>\n      <td>CNN</td>\n      <td>The US is in an &amp;apos;absolute race&amp;apos; with...</td>\n      <td>\"What concerns me most is that we already know...</td>\n      <td>While the state has the capacity to give 250,0...</td>\n    </tr>\n    <tr>\n      <th>3</th>\n      <td>2021-02-01 00:00:00+00:00</td>\n      <td>https://www.cnn.com/2021/02/01/investing/googl...</td>\n      <td>CNN</td>\n      <td>Google investors may have forgotten how much l...</td>\n      <td>Alphabet (GOOGL) is trading near an all-time h...</td>\n      <td>But broader concerns about the pandemic could ...</td>\n    </tr>\n    <tr>\n      <th>4</th>\n      <td>2021-02-01 00:00:00+00:00</td>\n      <td>https://edition.cnn.com/2021/02/01/europe/nean...</td>\n      <td>CNN International</td>\n      <td>Prehistoric teeth hint at Stone Age sex with N...</td>\n      <td>During this time, Homo sapiens and Neanderthal...</td>\n      <td>The team was trying to recover DNA from the te...</td>\n    </tr>\n  </tbody>\n</table>\n</div>"
     },
     "metadata": {},
     "execution_count": 6
    }
   ],
   "source": [
    "df.head()"
   ]
  },
  {
   "source": [
    "## Cleaning and preparations ## "
   ],
   "cell_type": "markdown",
   "metadata": {}
  },
  {
   "cell_type": "code",
   "execution_count": 7,
   "metadata": {},
   "outputs": [],
   "source": [
    "# Imports for Cleaning and preparations\n",
    "import numpy as np\n",
    "import heapq\n",
    "import re\n",
    "from nltk.corpus import stopwords\n",
    "from nltk.stem import PorterStemmer\n",
    "from nltk.tokenize import word_tokenize, sent_tokenize"
   ]
  },
  {
   "source": [
    "Now that we've aggreggated articles for our data,lets preview an article."
   ],
   "cell_type": "markdown",
   "metadata": {}
  },
  {
   "cell_type": "code",
   "execution_count": 8,
   "metadata": {},
   "outputs": [
    {
     "output_type": "execute_result",
     "data": {
      "text/plain": [
       "'The ACLU made the announcement Monday, calling Archer \"an established civil rights attorney, scholar, and teacher.\" In addition to her professorship, Archer is the co-faculty director at NYU\\'s Center on Race, Inequality, and the Law, and the director of the Civil Rights Clinic at NYU School of Law. Archer has been a part of the ACLU for years, beginning her career as a legal fellow in the ACLU Racial Justice Program, the organization stated. She\\'s been a member of the board since 2009 and a general counsel since 2017. \"After beginning my career as an ACLU fellow, it is an honor to come full circle and now lead the organization as board president,\" Archer said in a statement. \"The ACLU has proven itself as an invaluable voice in the fight for civil rights in the last four years of the Trump era, and we are better positioned than ever to face the work ahead.\" Susan Herman previously held the role, serving for 12 years.  Archer\\'s duties will include leading its more than 60 members in creating organizational policy, as well as overseeing things like the nonprofit\\'s finances. '"
      ]
     },
     "metadata": {},
     "execution_count": 8
    }
   ],
   "source": [
    "df['content'][0]"
   ]
  },
  {
   "source": [
    "Notice the symbols and characters within the article content. Before we calculate the frequencies, lets use regex to clean things up by defining some functions."
   ],
   "cell_type": "markdown",
   "metadata": {}
  },
  {
   "cell_type": "code",
   "execution_count": 9,
   "metadata": {},
   "outputs": [
    {
     "output_type": "error",
     "ename": "ValueError",
     "evalue": "max() arg is an empty sequence",
     "traceback": [
      "\u001b[1;31m---------------------------------------------------------------------------\u001b[0m",
      "\u001b[1;31mValueError\u001b[0m                                Traceback (most recent call last)",
      "\u001b[1;32m<ipython-input-9-30e48251979a>\u001b[0m in \u001b[0;36m<module>\u001b[1;34m\u001b[0m\n\u001b[0;32m     22\u001b[0m             \u001b[0mword_freq\u001b[0m\u001b[1;33m[\u001b[0m\u001b[0mword\u001b[0m\u001b[1;33m]\u001b[0m \u001b[1;33m+=\u001b[0m \u001b[1;36m1\u001b[0m\u001b[1;33m\u001b[0m\u001b[1;33m\u001b[0m\u001b[0m\n\u001b[0;32m     23\u001b[0m \u001b[1;33m\u001b[0m\u001b[0m\n\u001b[1;32m---> 24\u001b[1;33m     \u001b[0mmax_req\u001b[0m \u001b[1;33m=\u001b[0m \u001b[0mmax\u001b[0m\u001b[1;33m(\u001b[0m\u001b[0mword_freq\u001b[0m\u001b[1;33m.\u001b[0m\u001b[0mvalues\u001b[0m\u001b[1;33m(\u001b[0m\u001b[1;33m)\u001b[0m\u001b[1;33m)\u001b[0m\u001b[1;33m\u001b[0m\u001b[1;33m\u001b[0m\u001b[0m\n\u001b[0m\u001b[0;32m     25\u001b[0m     \u001b[1;32mfor\u001b[0m \u001b[0mword\u001b[0m \u001b[1;32min\u001b[0m \u001b[0mword_freq\u001b[0m\u001b[1;33m.\u001b[0m\u001b[0mkeys\u001b[0m\u001b[1;33m(\u001b[0m\u001b[1;33m)\u001b[0m\u001b[1;33m:\u001b[0m\u001b[1;33m\u001b[0m\u001b[1;33m\u001b[0m\u001b[0m\n\u001b[0;32m     26\u001b[0m         \u001b[0mword_freq\u001b[0m\u001b[1;33m[\u001b[0m\u001b[0mword\u001b[0m\u001b[1;33m]\u001b[0m \u001b[1;33m=\u001b[0m \u001b[1;33m(\u001b[0m\u001b[0mword_freq\u001b[0m\u001b[1;33m[\u001b[0m\u001b[0mword\u001b[0m\u001b[1;33m]\u001b[0m\u001b[1;33m/\u001b[0m\u001b[0mmax_req\u001b[0m\u001b[1;33m)\u001b[0m\u001b[1;33m\u001b[0m\u001b[1;33m\u001b[0m\u001b[0m\n",
      "\u001b[1;31mValueError\u001b[0m: max() arg is an empty sequence"
     ]
    }
   ],
   "source": [
    "summary_data = np.full([len(df)], \"\", dtype=np.object)\n",
    "for index, row in df.iterrows():\n",
    "    # Remove all extra spaces\n",
    "    text = re.sub(r'\\s+', ' ', row['content'])\n",
    "    # Remove all numbers and special characters, used for frequency\n",
    "    format_text = re.sub('[^a-zA-Z]', ' ', text )\n",
    "    format_text = re.sub(r'\\s+', ' ', format_text)\n",
    "\n",
    "    # Remove stopwords from tokenized array\n",
    "    stop_words = list(stopwords.words('english'))\n",
    "    word_tokens = np.array(word_tokenize(format_text))\n",
    "    format_text = np.array([word for word in word_tokens if not word in stop_words])\n",
    "\n",
    "    # Splitting sentences\n",
    "    sentence_list = np.array(text.split('. '))\n",
    "    \n",
    "    word_freq = {}\n",
    "    for word in format_text:\n",
    "        if word not in word_freq.keys():\n",
    "            word_freq[word] = 1\n",
    "        else: \n",
    "            word_freq[word] += 1\n",
    "\n",
    "    max_req = max(word_freq.values(), default=0)\n",
    "    for word in word_freq.keys():\n",
    "        word_freq[word] = (word_freq[word]/max_req)\n",
    "\n",
    "    sentence_score = {}\n",
    "    sentence_avg = round(1.5*sum([len(sent.split(' ')) for sent in sentence_list])/len(sentence_list))\n",
    "    for sentence in sentence_list:\n",
    "        for word in word_tokenize(sentence.lower()):\n",
    "            if word in word_freq.keys():\n",
    "                if len(sentence.split(' ')) < sentence_avg:\n",
    "                    if sentence not in sentence_score.keys():\n",
    "                        sentence_score[sentence] = word_freq[word]\n",
    "                    else:\n",
    "                        sentence_score[sentence] += word_freq[word]\n",
    "\n",
    "    summary_sentences = heapq.nlargest(7, sentence_score, key=sentence_score.get)\n",
    "\n",
    "    summary_data[index] = '. '.join(summary_sentences)+\".\"\n",
    "\n",
    "# Append new column\n",
    "df['summary'] = summary_data \n",
    "df.to_csv(\"articles.csv\")"
   ]
  },
  {
   "cell_type": "code",
   "execution_count": 41,
   "metadata": {},
   "outputs": [
    {
     "output_type": "execute_result",
     "data": {
      "text/plain": [
       "                   pub-date  \\\n",
       "0 2021-02-01 00:00:00+00:00   \n",
       "1 2021-02-01 00:00:00+00:00   \n",
       "2 2021-02-01 00:00:00+00:00   \n",
       "3 2021-02-01 00:00:00+00:00   \n",
       "4 2021-02-01 00:00:00+00:00   \n",
       "\n",
       "                                              source               name  \\\n",
       "0  https://www.cnn.com/2021/02/01/us/aclu-first-b...                CNN   \n",
       "1  https://www.cnn.com/2021/02/01/politics/joe-ma...                CNN   \n",
       "2  https://www.cnn.com/2021/02/01/health/us-coron...                CNN   \n",
       "3  https://www.cnn.com/2021/02/01/investing/googl...                CNN   \n",
       "4  https://edition.cnn.com/2021/02/01/europe/nean...  CNN International   \n",
       "\n",
       "                                               title  \\\n",
       "0  ACLU, for first time in its 101-year history, ...   \n",
       "1  White House reached out to Manchin after Harri...   \n",
       "2  The US is in an &apos;absolute race&apos; with...   \n",
       "3  Google investors may have forgotten how much l...   \n",
       "4  Prehistoric teeth hint at Stone Age sex with N...   \n",
       "\n",
       "                                             content  \\\n",
       "0  The ACLU made the announcement Monday, calling...   \n",
       "1  The outreach comes after Harris' apparent move...   \n",
       "2  \"What concerns me most is that we already know...   \n",
       "3  Alphabet (GOOGL) is trading near an all-time h...   \n",
       "4  During this time, Homo sapiens and Neanderthal...   \n",
       "\n",
       "                                             summary  \n",
       "0  \"After beginning my career as an ACLU fellow, ...  \n",
       "1  In an interview with WSAZ Thursday, Harris sai...  \n",
       "2  While the state has the capacity to give 250,0...  \n",
       "3  But broader concerns about the pandemic could ...  \n",
       "4  The team was trying to recover DNA from the te...  "
      ],
      "text/html": "<div>\n<style scoped>\n    .dataframe tbody tr th:only-of-type {\n        vertical-align: middle;\n    }\n\n    .dataframe tbody tr th {\n        vertical-align: top;\n    }\n\n    .dataframe thead th {\n        text-align: right;\n    }\n</style>\n<table border=\"1\" class=\"dataframe\">\n  <thead>\n    <tr style=\"text-align: right;\">\n      <th></th>\n      <th>pub-date</th>\n      <th>source</th>\n      <th>name</th>\n      <th>title</th>\n      <th>content</th>\n      <th>summary</th>\n    </tr>\n  </thead>\n  <tbody>\n    <tr>\n      <th>0</th>\n      <td>2021-02-01 00:00:00+00:00</td>\n      <td>https://www.cnn.com/2021/02/01/us/aclu-first-b...</td>\n      <td>CNN</td>\n      <td>ACLU, for first time in its 101-year history, ...</td>\n      <td>The ACLU made the announcement Monday, calling...</td>\n      <td>\"After beginning my career as an ACLU fellow, ...</td>\n    </tr>\n    <tr>\n      <th>1</th>\n      <td>2021-02-01 00:00:00+00:00</td>\n      <td>https://www.cnn.com/2021/02/01/politics/joe-ma...</td>\n      <td>CNN</td>\n      <td>White House reached out to Manchin after Harri...</td>\n      <td>The outreach comes after Harris' apparent move...</td>\n      <td>In an interview with WSAZ Thursday, Harris sai...</td>\n    </tr>\n    <tr>\n      <th>2</th>\n      <td>2021-02-01 00:00:00+00:00</td>\n      <td>https://www.cnn.com/2021/02/01/health/us-coron...</td>\n      <td>CNN</td>\n      <td>The US is in an &amp;apos;absolute race&amp;apos; with...</td>\n      <td>\"What concerns me most is that we already know...</td>\n      <td>While the state has the capacity to give 250,0...</td>\n    </tr>\n    <tr>\n      <th>3</th>\n      <td>2021-02-01 00:00:00+00:00</td>\n      <td>https://www.cnn.com/2021/02/01/investing/googl...</td>\n      <td>CNN</td>\n      <td>Google investors may have forgotten how much l...</td>\n      <td>Alphabet (GOOGL) is trading near an all-time h...</td>\n      <td>But broader concerns about the pandemic could ...</td>\n    </tr>\n    <tr>\n      <th>4</th>\n      <td>2021-02-01 00:00:00+00:00</td>\n      <td>https://edition.cnn.com/2021/02/01/europe/nean...</td>\n      <td>CNN International</td>\n      <td>Prehistoric teeth hint at Stone Age sex with N...</td>\n      <td>During this time, Homo sapiens and Neanderthal...</td>\n      <td>The team was trying to recover DNA from the te...</td>\n    </tr>\n  </tbody>\n</table>\n</div>"
     },
     "metadata": {},
     "execution_count": 41
    }
   ],
   "source": [
    "df.head()"
   ]
  },
  {
   "cell_type": "code",
   "execution_count": 51,
   "metadata": {},
   "outputs": [
    {
     "output_type": "execute_result",
     "data": {
      "text/plain": [
       "'\"After beginning my career as an ACLU fellow, it is an honor to come full circle and now lead the organization as board president,\" Archer said in a statement. Archer has been a part of the ACLU for years, beginning her career as a legal fellow in the ACLU Racial Justice Program, the organization stated. Archer\\'s duties will include leading its more than 60 members in creating organizational policy, as well as overseeing things like the nonprofit\\'s finances. She\\'s been a member of the board since 2009 and a general counsel since 2017.'"
      ]
     },
     "metadata": {},
     "execution_count": 51
    }
   ],
   "source": [
    "df.info()"
   ]
  }
 ],
 "metadata": {
  "kernelspec": {
   "display_name": "Python 3",
   "language": "python",
   "name": "python3"
  },
  "language_info": {
   "codemirror_mode": {
    "name": "ipython",
    "version": 3
   },
   "file_extension": ".py",
   "mimetype": "text/x-python",
   "name": "python",
   "nbconvert_exporter": "python",
   "pygments_lexer": "ipython3",
   "version": "3.8.7-final"
  }
 },
 "nbformat": 4,
 "nbformat_minor": 4
}